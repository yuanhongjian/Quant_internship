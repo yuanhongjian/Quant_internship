{
 "cells": [
  {
   "cell_type": "code",
   "execution_count": null,
   "metadata": {
    "collapsed": true
   },
   "outputs": [],
   "source": [
    "import pandas as pd\n",
    "from datetime import datetime,timedelta\n",
    "import requests\n",
    "import json\n",
    "from vnpy.trader.app.ctaStrategy import BacktestingEngine\n",
    "from vnpy.trader.utils import htmlplot\n",
    "\n",
    "# 创建回测引擎对象\n",
    "engine = BacktestingEngine()\n",
    "\n",
    "# 设置回测使用的数据\n",
    "engine.setBacktestingMode(engine.BAR_MODE)    # 设置引擎的回测模式为K线\n",
    "engine.setDatabase('VnTrader_1Min_Db')  # 设置使用的历史数据库\n",
    "engine.setStartDate('20180601 12:00',initHours=200) # 设置回测用的数据起始日期\n",
    "engine.setEndDate('20181129 12:00') # 设置回测用的数据终止日期\n",
    "\n",
    "# 配置回测引擎参数\n",
    "engine.setSlippage(0.002)    # 设置滑点\n",
    "engine.setRate(5/10000)   # 设置手续费千1\n",
    "engine.setCapital(100000)  # 设置回测本金\n",
    "\n",
    "#\n",
    "SOB = []\n",
    "Signal = []"
   ]
  },
  {
   "cell_type": "code",
   "execution_count": null,
   "metadata": {
    "collapsed": true
   },
   "outputs": [],
   "source": []
  }
 ],
 "metadata": {
  "kernelspec": {
   "display_name": "Python 3",
   "language": "python",
   "name": "python3"
  },
  "language_info": {
   "codemirror_mode": {
    "name": "ipython",
    "version": 3
   },
   "file_extension": ".py",
   "mimetype": "text/x-python",
   "name": "python",
   "nbconvert_exporter": "python",
   "pygments_lexer": "ipython3",
   "version": "3.6.2"
  }
 },
 "nbformat": 4,
 "nbformat_minor": 2
}
